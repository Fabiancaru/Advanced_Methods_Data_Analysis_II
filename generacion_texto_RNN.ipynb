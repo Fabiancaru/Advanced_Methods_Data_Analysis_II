{
  "nbformat": 4,
  "nbformat_minor": 0,
  "metadata": {
    "colab": {
      "provenance": [],
      "collapsed_sections": [],
      "include_colab_link": true
    },
    "kernelspec": {
      "name": "python3",
      "display_name": "Python 3"
    },
    "language_info": {
      "name": "python"
    },
    "accelerator": "GPU"
  },
  "cells": [
    {
      "cell_type": "markdown",
      "metadata": {
        "id": "view-in-github",
        "colab_type": "text"
      },
      "source": [
        "<a href=\"https://colab.research.google.com/github/Fabiancaru/Advanced_Methods_Data_Analysis_II/blob/main/generacion_texto_RNN.ipynb\" target=\"_parent\"><img src=\"https://colab.research.google.com/assets/colab-badge.svg\" alt=\"Open In Colab\"/></a>"
      ]
    },
    {
      "cell_type": "markdown",
      "metadata": {
        "id": "nfLhQb_6PUTv"
      },
      "source": [
        "# GENERACIÓN DE TEXTO CON REDES NEURONALES RECURRENTES"
      ]
    },
    {
      "cell_type": "markdown",
      "metadata": {
        "id": "CbvtjFFbPXd-"
      },
      "source": [
        "## 1 - El set de datos y el problema a resolver"
      ]
    },
    {
      "cell_type": "markdown",
      "metadata": {
        "id": "4mbl1pqSPcvf"
      },
      "source": [
        "Usaremos un texto en español, de libre acceso, y que contiene una serie de [cuentos de Edgar Allan Poe](https://www.gutenberg.org/cache/epub/46196/pg46196.txt).\n",
        "\n",
        "La idea es crear un modelo de lenguaje a nivel de caracter: para cada predicción tomará 10 caracteres de entrada y generará 1 de salida:\n",
        "\n",
        "![](https://drive.google.com/uc?export=view&id=1UqXixOnlp4AS7gL1EZiZW0J1qJ9ctg3B)"
      ]
    },
    {
      "cell_type": "code",
      "metadata": {
        "id": "YT3Qc77KIGLJ"
      },
      "source": [
        "# Las librerías a utilizar\n",
        "import numpy as np\n",
        "from tensorflow.keras.layers import Dense, SimpleRNN\n",
        "from keras.models import Sequential\n",
        "from google.colab import drive\n",
        "import tensorflow as tf"
      ],
      "execution_count": null,
      "outputs": []
    },
    {
      "cell_type": "code",
      "metadata": {
        "id": "tI0cFvvGouDV"
      },
      "source": [
        "# Leer archivo\n",
        "drive.mount('/gdrive')\n",
        "ruta = '/gdrive/MyDrive/Colab Notebooks/01_2021-07-FundamentosDL/3.7-RNN-Practica1-GeneracionTextoConRNNs/cuentos_EAPoe.txt'\n",
        "\n",
        "texto = open(ruta,'r',encoding='utf8').read()\n",
        "chars = list(set(texto))\n",
        "tam_vocab = len(chars)\n",
        "\n",
        "print(texto)\n",
        "print(chars)\n",
        "print(tam_vocab)"
      ],
      "execution_count": null,
      "outputs": []
    },
    {
      "cell_type": "markdown",
      "metadata": {
        "id": "kVB-upqOTPiA"
      },
      "source": [
        "## 2 - Creación del set de entrenamiento"
      ]
    },
    {
      "cell_type": "code",
      "metadata": {
        "id": "-_MMXxNzpeSQ",
        "colab": {
          "base_uri": "https://localhost:8080/"
        },
        "outputId": "44bc7cfc-d2d9-4de6-d9b9-f28dd64232a4"
      },
      "source": [
        "# Diccionarios para convertir de texto a índice numérico y viceversa\n",
        "char2ix = {c: i for i, c in enumerate(chars)}\n",
        "ix2char = {i: c for i, c in enumerate(chars)}\n",
        "print(char2ix)\n",
        "print(ix2char)"
      ],
      "execution_count": null,
      "outputs": [
        {
          "output_type": "stream",
          "text": [
            "{'ü': 0, 'G': 1, 'W': 2, '.': 3, 'N': 4, 'ô': 5, 'V': 6, 's': 7, '{': 8, 'Y': 9, 'ñ': 10, '-': 11, 'O': 12, ':': 13, '[': 14, '¡': 15, 'B': 16, 'L': 17, ',': 18, '3': 19, 'r': 20, 'Á': 21, '\\n': 22, 'p': 23, 'é': 24, 'x': 25, '9': 26, 'æ': 27, 'm': 28, 'Í': 29, 'a': 30, 'h': 31, '}': 32, 'D': 33, '*': 34, 'É': 35, 'K': 36, 'â': 37, 'E': 38, 'I': 39, \"'\": 40, 'J': 41, '(': 42, 'q': 43, ']': 44, 'R': 45, 'T': 46, '0': 47, '¶': 48, 'i': 49, 'd': 50, 'H': 51, '4': 52, 'ö': 53, 'y': 54, 'M': 55, 'j': 56, '6': 57, '¿': 58, 'U': 59, '_': 60, ';': 61, 'ú': 62, 'c': 63, '7': 64, 'Ú': 65, 'í': 66, 'z': 67, 'Q': 68, 'á': 69, 'b': 70, 'ó': 71, 'S': 72, 'g': 73, 'v': 74, '2': 75, '5': 76, '!': 77, 'f': 78, 'w': 79, 'u': 80, 'o': 81, '8': 82, '?': 83, ' ': 84, '\"': 85, 'F': 86, 'l': 87, 'Ó': 88, '1': 89, 'X': 90, 'n': 91, 't': 92, ')': 93, 'e': 94, 'A': 95, 'C': 96, 'P': 97, 'Ö': 98, 'k': 99}\n",
            "{0: 'ü', 1: 'G', 2: 'W', 3: '.', 4: 'N', 5: 'ô', 6: 'V', 7: 's', 8: '{', 9: 'Y', 10: 'ñ', 11: '-', 12: 'O', 13: ':', 14: '[', 15: '¡', 16: 'B', 17: 'L', 18: ',', 19: '3', 20: 'r', 21: 'Á', 22: '\\n', 23: 'p', 24: 'é', 25: 'x', 26: '9', 27: 'æ', 28: 'm', 29: 'Í', 30: 'a', 31: 'h', 32: '}', 33: 'D', 34: '*', 35: 'É', 36: 'K', 37: 'â', 38: 'E', 39: 'I', 40: \"'\", 41: 'J', 42: '(', 43: 'q', 44: ']', 45: 'R', 46: 'T', 47: '0', 48: '¶', 49: 'i', 50: 'd', 51: 'H', 52: '4', 53: 'ö', 54: 'y', 55: 'M', 56: 'j', 57: '6', 58: '¿', 59: 'U', 60: '_', 61: ';', 62: 'ú', 63: 'c', 64: '7', 65: 'Ú', 66: 'í', 67: 'z', 68: 'Q', 69: 'á', 70: 'b', 71: 'ó', 72: 'S', 73: 'g', 74: 'v', 75: '2', 76: '5', 77: '!', 78: 'f', 79: 'w', 80: 'u', 81: 'o', 82: '8', 83: '?', 84: ' ', 85: '\"', 86: 'F', 87: 'l', 88: 'Ó', 89: '1', 90: 'X', 91: 'n', 92: 't', 93: ')', 94: 'e', 95: 'A', 96: 'C', 97: 'P', 98: 'Ö', 99: 'k'}\n"
          ],
          "name": "stdout"
        }
      ]
    },
    {
      "cell_type": "code",
      "metadata": {
        "id": "BIP-OmzMp4CO",
        "colab": {
          "base_uri": "https://localhost:8080/"
        },
        "outputId": "5e3211f0-be84-4593-ef24-4a3703a52260"
      },
      "source": [
        "# Crear bloques de 10 caracteres, que serán los datos de entrada a la red\n",
        "LONG_SEC = 10\n",
        "texto_in, texto_out = [], []\n",
        "\n",
        "# Por cada 10 caracteres de entrada, el modelo predice 1 caracter de salida\n",
        "for i in range(0,len(texto)-LONG_SEC):\n",
        "  texto_in.append(texto[i:i+LONG_SEC]) # Ejemplo: caracteres del 0 al 9\n",
        "  texto_out.append(texto[i + LONG_SEC])# Ejemplo: caracter 10\n",
        "\n",
        "print(texto_in[0])\n",
        "print(texto_out[0])\n",
        "print(texto_in[1])\n",
        "print(texto_out[1])"
      ],
      "execution_count": null,
      "outputs": [
        {
          "output_type": "stream",
          "text": [
            "EL BARRIL \n",
            "D\n",
            "L BARRIL D\n",
            "E\n"
          ],
          "name": "stdout"
        }
      ]
    },
    {
      "cell_type": "code",
      "metadata": {
        "id": "4t6_-vIZrO42",
        "colab": {
          "base_uri": "https://localhost:8080/"
        },
        "outputId": "a16e0adf-a87d-4b12-9a21-e3700c22bdbf"
      },
      "source": [
        "# Set de entrenamiento: simplemente se deben convertir a one-hot los sets\n",
        "# de entrada y salida\n",
        "\n",
        "X = np.zeros((len(texto_in), LONG_SEC, tam_vocab)) # #ejemplos x 10 x tam_vocab\n",
        "Y = np.zeros((len(texto_in), tam_vocab))   # #ejemplos x tam_vocab\n",
        "\n",
        "for i, entrada in enumerate(texto_in):\n",
        "  for j, car in enumerate(entrada):\n",
        "    X[i,j, char2ix[car]] = 1\n",
        "    Y[i, char2ix[texto_out[i]]] = 1\n",
        "\n",
        "print(X.shape)\n",
        "print(Y.shape)\n",
        "print(X[0,0,:])\n",
        "print(Y[0,:])"
      ],
      "execution_count": null,
      "outputs": [
        {
          "output_type": "stream",
          "text": [
            "(331185, 10, 100)\n",
            "(331185, 100)\n",
            "[0. 0. 0. 0. 0. 0. 0. 0. 0. 0. 0. 0. 0. 0. 0. 0. 0. 0. 0. 0. 0. 0. 0. 0.\n",
            " 0. 0. 0. 0. 0. 0. 0. 0. 0. 0. 0. 0. 0. 0. 1. 0. 0. 0. 0. 0. 0. 0. 0. 0.\n",
            " 0. 0. 0. 0. 0. 0. 0. 0. 0. 0. 0. 0. 0. 0. 0. 0. 0. 0. 0. 0. 0. 0. 0. 0.\n",
            " 0. 0. 0. 0. 0. 0. 0. 0. 0. 0. 0. 0. 0. 0. 0. 0. 0. 0. 0. 0. 0. 0. 0. 0.\n",
            " 0. 0. 0. 0.]\n",
            "[0. 0. 0. 0. 0. 0. 0. 0. 0. 0. 0. 0. 0. 0. 0. 0. 0. 0. 0. 0. 0. 0. 0. 0.\n",
            " 0. 0. 0. 0. 0. 0. 0. 0. 0. 1. 0. 0. 0. 0. 0. 0. 0. 0. 0. 0. 0. 0. 0. 0.\n",
            " 0. 0. 0. 0. 0. 0. 0. 0. 0. 0. 0. 0. 0. 0. 0. 0. 0. 0. 0. 0. 0. 0. 0. 0.\n",
            " 0. 0. 0. 0. 0. 0. 0. 0. 0. 0. 0. 0. 0. 0. 0. 0. 0. 0. 0. 0. 0. 0. 0. 0.\n",
            " 0. 0. 0. 0.]\n"
          ],
          "name": "stdout"
        }
      ]
    },
    {
      "cell_type": "markdown",
      "metadata": {
        "id": "h7SbfcqqUBkA"
      },
      "source": [
        "## 3 - Crear modelo"
      ]
    },
    {
      "cell_type": "code",
      "metadata": {
        "id": "GzuPTN9xtVlB",
        "colab": {
          "base_uri": "https://localhost:8080/"
        },
        "outputId": "11932efb-3bcc-408a-a70a-dad25344505b"
      },
      "source": [
        "SEED = 15\n",
        "tf.random.set_seed(SEED)\n",
        "np.random.seed(SEED)\n",
        "N_NEURONAS = 256\n",
        "\n",
        "modelo = Sequential()\n",
        "modelo.add( SimpleRNN(N_NEURONAS, input_shape=(LONG_SEC, tam_vocab)) )\n",
        "modelo.add(Dense(tam_vocab, activation='softmax'))\n",
        "\n",
        "modelo.summary()"
      ],
      "execution_count": null,
      "outputs": [
        {
          "output_type": "stream",
          "text": [
            "Model: \"sequential\"\n",
            "_________________________________________________________________\n",
            "Layer (type)                 Output Shape              Param #   \n",
            "=================================================================\n",
            "simple_rnn (SimpleRNN)       (None, 256)               91392     \n",
            "_________________________________________________________________\n",
            "dense (Dense)                (None, 100)               25700     \n",
            "=================================================================\n",
            "Total params: 117,092\n",
            "Trainable params: 117,092\n",
            "Non-trainable params: 0\n",
            "_________________________________________________________________\n"
          ],
          "name": "stdout"
        }
      ]
    },
    {
      "cell_type": "markdown",
      "metadata": {
        "id": "bFeL3PZ3UGov"
      },
      "source": [
        "## 4 - Función para generación de texto"
      ]
    },
    {
      "cell_type": "code",
      "metadata": {
        "id": "F4JGhuRlvV52"
      },
      "source": [
        "def generar_texto(modelo, L_OUT_SEC):\n",
        "  # Seleccionar un dato de entrenamiento inicial aleatoriamente\n",
        "  ix_test = np.random.randint(len(texto_in))\n",
        "  char_test = texto_in[ix_test]\n",
        "\n",
        "  # Generar texto de tamaño L_OUT_SEC\n",
        "  print(char_test, end=\"\")\n",
        "  for i in range(L_OUT_SEC):\n",
        "    # Codificación one-hot del texto de entrada\n",
        "    X_test = np.zeros((1, LONG_SEC, tam_vocab)) # 1x10x100\n",
        "    for j, car in enumerate(char_test):\n",
        "      X_test[0,j, char2ix[car]] = 1\n",
        "    \n",
        "    # Introducir al modelo y generar predicción\n",
        "    pred = modelo.predict(X_test, verbose=0)[0]\n",
        "    y_pred = ix2char[np.argmax(pred)]\n",
        "\n",
        "    # Imprimir el caracter predicho\n",
        "    print(y_pred, end=\"\")\n",
        "\n",
        "    # Agregar como último elemento de \"char_test\" y continuar prediciendo\n",
        "    char_test = char_test[1:] + y_pred\n",
        "  print()"
      ],
      "execution_count": null,
      "outputs": []
    },
    {
      "cell_type": "markdown",
      "metadata": {
        "id": "D3FrScQfUOiO"
      },
      "source": [
        "## 5 - Entrenamiento y generación de texto"
      ]
    },
    {
      "cell_type": "code",
      "metadata": {
        "id": "90YdpTjb1Lfu",
        "colab": {
          "base_uri": "https://localhost:8080/"
        },
        "outputId": "d6adf471-bec5-4111-ceea-5a0ed926f202"
      },
      "source": [
        "modelo.compile(loss=\"categorical_crossentropy\", optimizer=\"rmsprop\")\n",
        "\n",
        "NEPOCHS = 20\n",
        "BATCH_SIZE = 128\n",
        "L_OUT_SEC = 50      # Número de caracteres a generar\n",
        "\n",
        "print('-'*50)\n",
        "print('Antes del entrenamiento:')\n",
        "generar_texto(modelo, L_OUT_SEC)\n",
        "\n",
        "for it in range(NEPOCHS):\n",
        "  modelo.fit(X,Y, batch_size=BATCH_SIZE, epochs=1, verbose=0)\n",
        "  print('-'*50)\n",
        "  print(f'Iteración: {it+1}')\n",
        "  generar_texto(modelo, L_OUT_SEC)"
      ],
      "execution_count": null,
      "outputs": [
        {
          "output_type": "stream",
          "text": [
            "--------------------------------------------------\n",
            "Antes del entrenamiento:\n",
            "aba y acarôô0s¡¿EH!ivdúéykXYLó73.M,1ÖVylndAId¶üÁ:zwí_gO\"ÍÓLi\n",
            "--------------------------------------------------\n",
            "Iteración: 1\n",
            " ruin amista de la de la de la de la de la de la de la de la\n",
            "--------------------------------------------------\n",
            "Iteración: 2\n",
            " doble Dupor en la de la cante en se había esta de la cante \n",
            "--------------------------------------------------\n",
            "Iteración: 3\n",
            "eza, mucho de la cama en la camo en la había esta abre la ca\n",
            "--------------------------------------------------\n",
            "Iteración: 4\n",
            " pausada y de su había de la casa en la vista de la casa en \n",
            "--------------------------------------------------\n",
            "Iteración: 5\n",
            "s. Legrande a des los por el mino de la casa de aprose de al\n",
            "--------------------------------------------------\n",
            "Iteración: 6\n",
            "encontrába la casa de acrones de la casa de acrones de la ca\n",
            "--------------------------------------------------\n",
            "Iteración: 7\n",
            "respecto?--exclame a dista de la casa de acrones de acrose d\n",
            "--------------------------------------------------\n",
            "Iteración: 8\n",
            "za en el tenido de la distancia de acrezado de su propera de\n",
            "--------------------------------------------------\n",
            "Iteración: 9\n",
            "las innumento de desparecía en la casa de su propera de la d\n",
            "--------------------------------------------------\n",
            "Iteración: 10\n",
            "s sienes; y la casa sobre el pergo, a la vista de la casa de\n",
            "--------------------------------------------------\n",
            "Iteración: 11\n",
            "chirrido de la distancia, en la casa sobre el pronto de la c\n",
            "--------------------------------------------------\n",
            "Iteración: 12\n",
            " barriles de la porte el pergora de la casa de un susidad de\n",
            "--------------------------------------------------\n",
            "Iteración: 13\n",
            "asamos\n",
            "de aquella cambia de su presencia de algunos en la ca\n",
            "--------------------------------------------------\n",
            "Iteración: 14\n",
            "ento acces de la calavera en la casa en la vista esta asegur\n",
            "--------------------------------------------------\n",
            "Iteración: 15\n",
            " corrección de describiendo de descandando de alguna para ex\n",
            "--------------------------------------------------\n",
            "Iteración: 16\n",
            "ude dejar de diservar el pergamino de distinguir algo sentim\n",
            "--------------------------------------------------\n",
            "Iteración: 17\n",
            "a con el\n",
            "herror de la propienta de la casa en la casa en la \n",
            "--------------------------------------------------\n",
            "Iteración: 18\n",
            " esta cruel de esta casa por el resultado de la calavera de \n",
            "--------------------------------------------------\n",
            "Iteración: 19\n",
            " Muy pocos que la cabeza de la vista no se aparecía en la ca\n",
            "--------------------------------------------------\n",
            "Iteración: 20\n",
            "rse los frandes de la calavera de mi amigo a la verdad, comp\n"
          ],
          "name": "stdout"
        }
      ]
    }
  ]
}