{
 "cells": [
  {
   "cell_type": "markdown",
   "id": "095c0091",
   "metadata": {},
   "source": [
    "# **Convolutional neural networks (CVN-convnets)**\n",
    "\n",
    "\n",
    "3.4. Example of a neural network that uses the Python library Keras to learn to classify handwritten digits.\n",
    "\n",
    "Code samples found in the book [Deep Learning with Python, 2nd Edition (Manning Publications).](https://www.manning.com/books/deep-learning-with-python-second-edition?a_aid=keras&a_bid=76564dff)\n",
    "\n",
    "## Part of the class Advanced Methods in Data Analysis II"
   ]
  },
  {
   "cell_type": "markdown",
   "id": "5189c071",
   "metadata": {},
   "source": [
    "***\n",
    "***"
   ]
  },
  {
   "cell_type": "markdown",
   "id": "d2f64f6d",
   "metadata": {},
   "source": [
    "**Loading the MNIST dataset in Keras** [MNIST](http://yann.lecun.com/exdb/mnist/)"
   ]
  },
  {
   "cell_type": "code",
   "execution_count": 1,
   "id": "11678168",
   "metadata": {},
   "outputs": [],
   "source": [
    "from keras.datasets import mnist\n",
    "import matplotlib.pyplot as plt\n",
    "from matplotlib.image import imread\n",
    "import matplotlib.pyplot as plt\n",
    "import numpy as np\n",
    "import tensorflow as tf"
   ]
  },
  {
   "cell_type": "code",
   "execution_count": 2,
   "id": "c5e5c547",
   "metadata": {},
   "outputs": [],
   "source": [
    "(X_train_image, y_train_labels), (X_test_image, y_test_labels) = mnist.load_data()\n",
    "\n",
    "X_train_image = X_train_image.reshape((60000, 28, 28, 1))\n",
    "X_train_image = X_train_image.astype('float32') / 255\n",
    "\n",
    "X_test_image = X_test_image.reshape((10000, 28, 28, 1))\n",
    "X_test_image = X_test_image.astype('float32') / 255\n",
    "from tensorflow.keras.utils import to_categorical\n",
    "y_train_labels = to_categorical(y_train_labels)\n",
    "y_test_labels = to_categorical(y_test_labels)\n",
    "from keras import models\n",
    "from keras import layers\n"
   ]
  },
  {
   "cell_type": "code",
   "execution_count": 3,
   "id": "4e119fc5",
   "metadata": {},
   "outputs": [],
   "source": [
    "model_network = models.Sequential()"
   ]
  },
  {
   "cell_type": "code",
   "execution_count": 4,
   "id": "500320a5",
   "metadata": {},
   "outputs": [],
   "source": [
    "model_network.add(layers.Conv2D(32, (3, 3), activation='relu', input_shape=(28, 28, 1)))\n",
    "model_network.add(layers.MaxPooling2D((2, 2)))\n",
    "model_network.add(layers.Conv2D(64, (3, 3), activation='relu'))\n",
    "model_network.add(layers.MaxPooling2D((2, 2)))\n",
    "model_network.add(layers.Conv2D(64, (3, 3), activation='relu'))\n"
   ]
  },
  {
   "cell_type": "code",
   "execution_count": 5,
   "id": "74d8e5fd",
   "metadata": {},
   "outputs": [],
   "source": [
    "model_network.add(layers.Flatten())\n",
    "model_network.add(layers.Dense(64, activation='relu'))\n",
    "model_network.add(layers.Dense(10, activation='softmax'))"
   ]
  },
  {
   "cell_type": "code",
   "execution_count": 6,
   "id": "c12039f2",
   "metadata": {},
   "outputs": [
    {
     "name": "stdout",
     "output_type": "stream",
     "text": [
      "Model: \"sequential\"\n",
      "_________________________________________________________________\n",
      "Layer (type)                 Output Shape              Param #   \n",
      "=================================================================\n",
      "conv2d (Conv2D)              (None, 26, 26, 32)        320       \n",
      "_________________________________________________________________\n",
      "max_pooling2d (MaxPooling2D) (None, 13, 13, 32)        0         \n",
      "_________________________________________________________________\n",
      "conv2d_1 (Conv2D)            (None, 11, 11, 64)        18496     \n",
      "_________________________________________________________________\n",
      "max_pooling2d_1 (MaxPooling2 (None, 5, 5, 64)          0         \n",
      "_________________________________________________________________\n",
      "conv2d_2 (Conv2D)            (None, 3, 3, 64)          36928     \n",
      "_________________________________________________________________\n",
      "flatten (Flatten)            (None, 576)               0         \n",
      "_________________________________________________________________\n",
      "dense (Dense)                (None, 64)                36928     \n",
      "_________________________________________________________________\n",
      "dense_1 (Dense)              (None, 10)                650       \n",
      "=================================================================\n",
      "Total params: 93,322\n",
      "Trainable params: 93,322\n",
      "Non-trainable params: 0\n",
      "_________________________________________________________________\n"
     ]
    }
   ],
   "source": [
    "model_network.summary()"
   ]
  },
  {
   "cell_type": "code",
   "execution_count": 7,
   "id": "0a09d4f3",
   "metadata": {},
   "outputs": [
    {
     "name": "stdout",
     "output_type": "stream",
     "text": [
      "Epoch 1/5\n",
      "938/938 [==============================] - 19s 20ms/step - loss: 0.1740 - accuracy: 0.9458\n",
      "Epoch 2/5\n",
      "938/938 [==============================] - 19s 20ms/step - loss: 0.0478 - accuracy: 0.9853\n",
      "Epoch 3/5\n",
      "938/938 [==============================] - 18s 20ms/step - loss: 0.0336 - accuracy: 0.9895\n",
      "Epoch 4/5\n",
      "938/938 [==============================] - 19s 20ms/step - loss: 0.0261 - accuracy: 0.9917\n",
      "Epoch 5/5\n",
      "938/938 [==============================] - 19s 20ms/step - loss: 0.0203 - accuracy: 0.9939\n"
     ]
    },
    {
     "data": {
      "text/plain": [
       "<keras.callbacks.History at 0x22fda9ce610>"
      ]
     },
     "execution_count": 7,
     "metadata": {},
     "output_type": "execute_result"
    }
   ],
   "source": [
    "model_network.compile(optimizer='rmsprop',\n",
    "loss='categorical_crossentropy',\n",
    "metrics=['accuracy'])\n",
    "model_network.fit(X_train_image, y_train_labels, epochs=5, batch_size=64)"
   ]
  },
  {
   "cell_type": "code",
   "execution_count": 8,
   "id": "b6acb498",
   "metadata": {},
   "outputs": [
    {
     "name": "stdout",
     "output_type": "stream",
     "text": [
      "313/313 [==============================] - 1s 4ms/step - loss: 0.0298 - accuracy: 0.9909\n"
     ]
    }
   ],
   "source": [
    "test_loss, test_acc = model_network.evaluate(X_test_image, y_test_labels)"
   ]
  }
 ],
 "metadata": {
  "kernelspec": {
   "display_name": "Python 3",
   "language": "python",
   "name": "python3"
  },
  "language_info": {
   "codemirror_mode": {
    "name": "ipython",
    "version": 3
   },
   "file_extension": ".py",
   "mimetype": "text/x-python",
   "name": "python",
   "nbconvert_exporter": "python",
   "pygments_lexer": "ipython3",
   "version": "3.8.8"
  }
 },
 "nbformat": 4,
 "nbformat_minor": 5
}
