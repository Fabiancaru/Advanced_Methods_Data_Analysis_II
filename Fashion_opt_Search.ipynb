{
 "cells": [
  {
   "cell_type": "markdown",
   "id": "3bac8cd5",
   "metadata": {},
   "source": [
    "# **Keras Hyperparameter Tuning**\n",
    "\n",
    "\n",
    "## Part of the class Advanced Methods in Data Analysis II\n",
    "\n",
    "\n",
    "Keras provides a wrapper class KerasClassifier that allows us to use our deep learning models with scikit-learn, this is especially useful when you want to tune hyperparameters using scikit-learn's RandomizedSearchCV or GridSearchCV.\n",
    "\n",
    "To use it, we first define a function that takes the arguments that we wish to tune, inside the function, you define the network's structure as usual and compile it. Then the function is passed to KerasClassifier's build_fn parameter. Note that like all other estimators in scikit-learn, build_fn should provide default values for its arguments, so that we could create the estimator even without passing in values for every parameters."
   ]
  },
  {
   "cell_type": "code",
   "execution_count": 1,
   "id": "a8420436",
   "metadata": {},
   "outputs": [],
   "source": [
    "import numpy as np\n",
    "import pandas as pd\n",
    "\n",
    "from keras.models import Sequential\n",
    "from keras.datasets import fashion_mnist\n",
    "from tensorflow.keras.utils import to_categorical\n",
    "from keras import models\n",
    "from keras import layers\n",
    "\n",
    "from keras.wrappers.scikit_learn import KerasClassifier\n",
    "from sklearn.model_selection import GridSearchCV\n",
    "from sklearn.model_selection import RandomizedSearchCV\n",
    "from sklearn.model_selection import cross_val_score\n",
    "from sklearn.metrics import accuracy_score"
   ]
  },
  {
   "cell_type": "markdown",
   "id": "e7eeacd7",
   "metadata": {},
   "source": [
    "Preparing data and labels"
   ]
  },
  {
   "cell_type": "code",
   "execution_count": 2,
   "id": "b6fcc07a",
   "metadata": {},
   "outputs": [],
   "source": [
    "(X_train_image, y_train_labels), (X_test_image, y_test_labels) = fashion_mnist.load_data()\n",
    "\n",
    "X_train_image = X_train_image.reshape((60000, 28 * 28))\n",
    "X_train_image = X_train_image.astype('float32') / 255\n",
    "X_test_image = X_test_image.reshape((10000, 28 * 28))\n",
    "X_test_image = X_test_image.astype('float32') / 255\n",
    "\n",
    "y_train_labels = to_categorical(y_train_labels)\n",
    "y_test_labels = to_categorical(y_test_labels)"
   ]
  },
  {
   "cell_type": "markdown",
   "id": "57e77d55",
   "metadata": {},
   "source": [
    "Returns the indices of the maximum values along an axis."
   ]
  },
  {
   "cell_type": "code",
   "execution_count": 3,
   "id": "d4d23155",
   "metadata": {},
   "outputs": [
    {
     "data": {
      "text/plain": [
       "0"
      ]
     },
     "execution_count": 3,
     "metadata": {},
     "output_type": "execute_result"
    }
   ],
   "source": [
    "rounded_labels=np.argmax(y_train_labels, axis=1)\n",
    "rounded_labels[1]"
   ]
  },
  {
   "cell_type": "markdown",
   "id": "21417792",
   "metadata": {},
   "source": [
    "Model that you are optimizing. This is an instance of the model with values of hyperparameters set that you want to optimize."
   ]
  },
  {
   "cell_type": "code",
   "execution_count": 4,
   "id": "7dc92ec1",
   "metadata": {},
   "outputs": [],
   "source": [
    "def build_keras_base(hidden_layers = [512, 10],  \n",
    "                     optimizer='sgd'):\n",
    "    model_opt = models.Sequential()\n",
    "    model_opt.add(layers.Dense(512, activation='relu', input_shape=(28 * 28,)))\n",
    "    model_opt.add(layers.Dense(10, activation='softmax'))\n",
    "    model_opt.compile(optimizer = optimizer, loss = 'categorical_crossentropy', metrics = ['accuracy'])\n",
    "    return model_opt"
   ]
  },
  {
   "cell_type": "markdown",
   "id": "49eb4a44",
   "metadata": {},
   "source": [
    "To use these wrappers you must define a function that creates and returns your Keras sequential model, then pass this function to the build_fn argument when constructing the KerasClassifier class."
   ]
  },
  {
   "cell_type": "code",
   "execution_count": 5,
   "id": "d598e862",
   "metadata": {},
   "outputs": [],
   "source": [
    "model_keras = KerasClassifier(\n",
    "    build_fn = build_keras_base, verbose=0\n",
    "   \n",
    ")"
   ]
  },
  {
   "cell_type": "markdown",
   "id": "7ec4668d",
   "metadata": {},
   "source": [
    "When constructing this class you must provide a dictionary of hyperparameters to evaluate in the param_distributions argument. This is a map of the model parameter name and an array of values to try."
   ]
  },
  {
   "cell_type": "code",
   "execution_count": 6,
   "id": "5abc37f3",
   "metadata": {},
   "outputs": [],
   "source": [
    "hidden_layers_opt=[[90,10], [128,10], [512, 10]] \n",
    "batch_size_opt= [128, 256] \n",
    "epochs_opt= [5, 10]\n",
    "optimizer= ['sgd', 'rmsprop']\n",
    "\n",
    "parameters_opt = {'hidden_layers':hidden_layers_opt,\n",
    "                  'optimizer': optimizer,\n",
    "                  'batch_size': batch_size_opt, \n",
    "                  'epochs': epochs_opt , \n",
    "                  \n",
    "                 }"
   ]
  },
  {
   "cell_type": "markdown",
   "id": "37bc3e77",
   "metadata": {},
   "source": [
    "Random search is great for discovery and getting hyperparameter combinations that you would not have guessed intuitively, although it often requires more time to execute."
   ]
  },
  {
   "cell_type": "code",
   "execution_count": 7,
   "id": "4ffcc758",
   "metadata": {},
   "outputs": [],
   "source": [
    "grid_search =  RandomizedSearchCV(model_keras,\n",
    "                                  param_distributions = parameters_opt, \n",
    "                                  scoring = 'accuracy', \n",
    "                                  n_iter = 3, \n",
    "                                  cv = 10)\n"
   ]
  },
  {
   "cell_type": "markdown",
   "id": "38dd04d8",
   "metadata": {},
   "source": [
    "Once completed, you can access the outcome of the grid search in the result object returned from grid.fit(). The best_accuracy_ member provides access to the best score observed during the optimization procedure and the best_parameters_ describes the combination of parameters that achieved the best results."
   ]
  },
  {
   "cell_type": "code",
   "execution_count": 8,
   "id": "bd371a86",
   "metadata": {},
   "outputs": [],
   "source": [
    "grid_result = grid_search.fit(X_train_image, rounded_labels, verbose=0)"
   ]
  },
  {
   "cell_type": "code",
   "execution_count": 9,
   "id": "f644f4ed",
   "metadata": {},
   "outputs": [
    {
     "name": "stdout",
     "output_type": "stream",
     "text": [
      "{'optimizer': 'rmsprop', 'hidden_layers': [512, 10], 'epochs': 10, 'batch_size': 256}\n",
      "0.8858333333333335\n"
     ]
    }
   ],
   "source": [
    "best_parameters = grid_search.best_params_\n",
    "best_accuracy = grid_search.best_score_\n",
    "print(best_parameters)\n",
    "print(best_accuracy)"
   ]
  },
  {
   "cell_type": "markdown",
   "id": "e4f077b3",
   "metadata": {},
   "source": [
    "-------------------------------------------------------------------------------------------------------------------\n",
    "-------------------------------------------------------------------------------------------------------------------"
   ]
  },
  {
   "cell_type": "markdown",
   "id": "a0d8c323",
   "metadata": {},
   "source": [
    "Grid Search. Define a search space as a grid of hyperparameter values and evaluate every position in the grid.\n",
    "Grid search is great for spot-checking combinations that are known to perform well generally. "
   ]
  },
  {
   "cell_type": "code",
   "execution_count": 10,
   "id": "04aa0743",
   "metadata": {},
   "outputs": [],
   "source": [
    "grid_search = GridSearchCV(estimator=model_keras, \n",
    "                           param_grid =parameters_opt, \n",
    "                           scoring = 'accuracy', \n",
    "                           cv = 10)"
   ]
  },
  {
   "cell_type": "code",
   "execution_count": null,
   "id": "6527145d",
   "metadata": {},
   "outputs": [],
   "source": [
    "grid_result = grid_search.fit(X_train_image, rounded_labels)"
   ]
  },
  {
   "cell_type": "code",
   "execution_count": 13,
   "id": "1b192cf5",
   "metadata": {},
   "outputs": [
    {
     "name": "stdout",
     "output_type": "stream",
     "text": [
      "{'batch_size': 128, 'epochs': 10, 'hidden_layers': [90, 10], 'optimizer': 'rmsprop'}\n",
      "0.8921333333333334\n"
     ]
    }
   ],
   "source": [
    "best_parameters = grid_search.best_params_\n",
    "best_accuracy = grid_search.best_score_\n",
    "print(best_parameters)\n",
    "print(best_accuracy)"
   ]
  }
 ],
 "metadata": {
  "kernelspec": {
   "display_name": "Python 3",
   "language": "python",
   "name": "python3"
  },
  "language_info": {
   "codemirror_mode": {
    "name": "ipython",
    "version": 3
   },
   "file_extension": ".py",
   "mimetype": "text/x-python",
   "name": "python",
   "nbconvert_exporter": "python",
   "pygments_lexer": "ipython3",
   "version": "3.8.8"
  }
 },
 "nbformat": 4,
 "nbformat_minor": 5
}
